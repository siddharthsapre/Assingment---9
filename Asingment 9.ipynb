{
 "cells": [
  {
   "cell_type": "markdown",
   "id": "c30eecf4-86eb-4ee1-a6b2-0e22850ea4cc",
   "metadata": {},
   "source": [
    "Q1. What is Abstraction in OOps? Explain with an example.\n"
   ]
  },
  {
   "cell_type": "markdown",
   "id": "f00f4553-5ea6-41c2-a54c-3f3443216735",
   "metadata": {},
   "source": [
    "In object-oriented programming (OOP), abstraction is a fundamental concept that involves simplifying complex systems by modeling classes based on real-world entities and their interactions. Abstraction allows developers to focus on essential aspects of an object while ignoring the irrelevant details. It is a way of managing complexity by hiding unnecessary implementation details and exposing only what is necessary."
   ]
  },
  {
   "cell_type": "code",
   "execution_count": null,
   "id": "acb89baa-4406-476e-85d5-ada63ebc1a11",
   "metadata": {},
   "outputs": [],
   "source": [
    "import abc\n",
    "\n",
    "class test1:\n",
    "    @abc.abstractmethod\n",
    "    def pwskills1(self):\n",
    "        pass \n",
    "    \n",
    "    @abc.abstractmethod\n",
    "    def pwskills2(self):\n",
    "        pass\n",
    "    \n",
    "    @abc.abstractmethod\n",
    "    def pwskills3(self):\n",
    "        pass\n",
    "     "
   ]
  },
  {
   "cell_type": "code",
   "execution_count": null,
   "id": "0e018a6f-00a1-402a-936b-db89586c41e6",
   "metadata": {},
   "outputs": [],
   "source": [
    "class test2(test1):\n",
    "    \n",
    "    def pwskills1(self):\n",
    "        return \"This is going your life changing class\"\n",
    "    \n",
    "    def pwskills2(self):\n",
    "        return \"All the best in life\"\n",
    "    \n",
    "    def pwskills3(self):\n",
    "        return \"Make the difference that will change\""
   ]
  },
  {
   "cell_type": "code",
   "execution_count": null,
   "id": "b8491722-5904-4518-b7a3-16840bd521b5",
   "metadata": {},
   "outputs": [],
   "source": [
    "class test3(test2):\n",
    "    \n",
    "    def pwskills1(self):\n",
    "        return \"Lullu mall ke hum khiladi\"\n",
    "    \n",
    "    def pwskills2(self):\n",
    "        return \"Kaise mujhe tu mil gayi\"\n",
    "    \n",
    "    def pwskills3(self):\n",
    "        return \"kallu mama ki shadi main fas gaye\""
   ]
  },
  {
   "cell_type": "markdown",
   "id": "4db6cde2-14c8-4888-8bb2-f23f54ff2e73",
   "metadata": {},
   "source": [
    "Q2. Differentiate between Abstraction and Encapsulation. Explain with an example."
   ]
  },
  {
   "cell_type": "markdown",
   "id": "ddc34ded-bb4b-4109-9ae6-9d456639b077",
   "metadata": {},
   "source": [
    "Abstraction:\n",
    "\n",
    "Definition: Abstraction is the process of hiding the complex implementation details and showing only the necessary features of an object.\n",
    "\n",
    "Purpose: It allows developers to focus on essential aspects while ignoring irrelevant details, simplifying the system and making it more understandable.\n",
    "\n",
    "Example: In the previous example of a test1 class , abstraction is evident in the way users interact with the car object using methods like test2(), \n",
    "test3(). Users don't need to know the internal details of how these actions are implemented; they only work with the abstracted interface \n",
    "provided by the class.\n",
    "\n",
    "\n",
    "Encapsulation:\n",
    "\n",
    "Definition: Encapsulation is the bundling of data (attributes) and methods that operate on the data into a single unit (a class). \n",
    "It restricts access to some of the object's components and prevents the accidental modification of data from outside the class.\n",
    "\n",
    "Purpose: It helps in achieving data hiding and protects the integrity of an object by controlling access to its internal state.\n",
    "\n",
    "Example: Extending the Car example, encapsulation is demonstrated by making the attributes like make, model, year, and speed private\n",
    " within the class. These attributes can only be accessed or modified through the class methods. Here's an illustration:\n",
    "\n",
    "python\n",
    "Copy code\n",
    "class Car:\n",
    "    def __init__(self, make, model, year):\n",
    "        self._make = make   # Encapsulation: Make attribute is private\n",
    "        self._model = model # Encapsulation: Model attribute is private\n",
    "        self._year = year   # Encapsulation: Year attribute is private\n",
    "        self._speed = 0\n",
    "\n",
    "    def accelerate(self):\n",
    "        self._speed += 5\n",
    "\n",
    "    def get_speed(self):\n",
    "        return self._speed  # Encapsulation: Accessing speed attribute through a method\n",
    "\n",
    "In this example, make, model, and year are encapsulated by making them private (denoted by the underscore _). \n",
    "The speed attribute is also encapsulated, and its access is controlled through a method (get_speed()), demonstrating \n",
    "encapsulation principles.\n",
    "\n",
    "\n"
   ]
  },
  {
   "cell_type": "markdown",
   "id": "19f8de43-0526-4da3-930b-8685992087aa",
   "metadata": {},
   "source": [
    "Q3. What is abc module in python? Why is it used?"
   ]
  },
  {
   "cell_type": "markdown",
   "id": "5d406dff-1b10-4bd9-9579-f45affe05d36",
   "metadata": {},
   "source": [
    "In Python, the abc module stands for \"Abstract Base Classes.\" The abc module provides the ABC (Abstract Base Class) and abstractmethod decorators, allowing developers to define abstract classes and abstract methods, respectively.\n",
    "\n",
    "Key components of the abc module:\n",
    "\n",
    "Abstract Base Class (ABC):\n",
    "\n",
    "An abstract base class is a class that cannot be instantiated on its own but serves as a blueprint for other classes.\n",
    "It is created using the ABC metaclass.\n",
    "abstractmethod decorator:\n",
    "\n",
    "This decorator is used to declare abstract methods within abstract classes.\n",
    "Abstract methods are methods that must be implemented by any concrete (non-abstract) subclass.\n",
    "Purpose and Usage:\n",
    "\n",
    "The primary purpose of the abc module is to support abstract classes and methods, enforcing a certain structure on derived classes. It helps in achieving a level of abstraction and ensures that specific methods are implemented by subclasses, making the code more robust and maintainable."
   ]
  },
  {
   "cell_type": "markdown",
   "id": "36358836-e1e6-4d8b-81ac-9ed883ef887c",
   "metadata": {},
   "source": [
    "Q4. How can we achieve data abstraction?"
   ]
  },
  {
   "cell_type": "markdown",
   "id": "32ea7e32-82c0-4fee-acf1-c7dedf455a87",
   "metadata": {},
   "source": [
    "Data abstraction in programming refers to the concept of hiding the complex details of data and only exposing the essential features or operations. In object-oriented programming (OOP), data abstraction is often achieved through the use of abstract classes and abstract methods. Here's how you can achieve data abstraction in Python:\n",
    "\n",
    "Use of Abstract Classes:\n",
    "Define an abstract class using the ABC (Abstract Base Class) metaclass from the abc module.\n",
    "Declare abstract methods within the abstract class using the @abstractmethod decorator."
   ]
  },
  {
   "cell_type": "code",
   "execution_count": null,
   "id": "3a36ba97-1704-4b70-bcd0-436b512f7096",
   "metadata": {},
   "outputs": [],
   "source": [
    "from abc import ABC, abstractmethod\n",
    "\n",
    "# Abstract Base Class for Data Abstraction\n",
    "class Shape(ABC):\n",
    "    @abstractmethod\n",
    "    def area(self):\n",
    "        pass\n",
    "\n",
    "    @abstractmethod\n",
    "    def perimeter(self):\n",
    "        pass\n"
   ]
  },
  {
   "cell_type": "markdown",
   "id": "91075f5f-927d-4c99-8f87-4ee4339d3eaa",
   "metadata": {},
   "source": [
    "Inheritance and Concrete Classes:\n",
    "Create concrete (non-abstract) classes that inherit from the abstract class.\n",
    "Implement the abstract methods in each concrete class."
   ]
  },
  {
   "cell_type": "code",
   "execution_count": null,
   "id": "c0bd1a2e-df07-478d-8517-4f9221daeab4",
   "metadata": {},
   "outputs": [],
   "source": [
    "# Concrete class (inherits from Shape)\n",
    "class Circle(Shape):\n",
    "    def __init__(self, radius):\n",
    "        self.radius = radius\n",
    "\n",
    "    def area(self):\n",
    "        return 3.14 * self.radius * self.radius\n",
    "\n",
    "    def perimeter(self):\n",
    "        return 2 * 3.14 * self.radius\n"
   ]
  },
  {
   "cell_type": "markdown",
   "id": "72e0c537-e4b9-4bc3-a61c-6ab0ebe98bf3",
   "metadata": {},
   "source": [
    "Object Creation:\n",
    "Instantiate objects of the concrete classes and use them without worrying about the internal details."
   ]
  },
  {
   "cell_type": "code",
   "execution_count": null,
   "id": "34d66b9d-c129-40b3-a653-5416a9d78186",
   "metadata": {},
   "outputs": [],
   "source": [
    "# Create an object of the Circle class\n",
    "my_circle = Circle(radius=5)\n",
    "\n",
    "# Access abstracted data and operations\n",
    "print(\"Area:\", my_circle.area())\n",
    "print(\"Perimeter:\", my_circle.perimeter())\n"
   ]
  },
  {
   "cell_type": "markdown",
   "id": "9a53b111-7821-4e66-a23e-41400dcda508",
   "metadata": {},
   "source": [
    "By following this approach, you achieve data abstraction because users of the Shape and Circle classes can interact with the essential features (area and perimeter methods) without needing to understand the internal complexities of how these methods are implemented. The abstract class provides a clear interface, and concrete classes provide specific implementations, hiding unnecessary details.\n",
    "\n",
    "Data abstraction helps in managing complexity, enhancing code reusability, and providing a clean and understandable interface for users of the classes."
   ]
  },
  {
   "cell_type": "markdown",
   "id": "8d1eff6f-6f9d-43ef-9858-ee47dfc25049",
   "metadata": {},
   "source": [
    "Q5. Can we create an instance of an abstract class? Explain your answer."
   ]
  },
  {
   "cell_type": "markdown",
   "id": "81c6f5b5-5b7a-4158-81f4-0f06c422709e",
   "metadata": {},
   "source": [
    "No, you cannot create an instance of an abstract class in Python. Abstract classes are meant to be incomplete, and they serve as blueprints for other classes. The primary purpose of an abstract class is to define a common interface and declare abstract methods that must be implemented by its concrete subclasses.\n",
    "\n",
    "In Python, abstract classes are created using the ABC (Abstract Base Class) metaclass from the abc module. Abstract methods within the abstract class are marked with the @abstractmethod decorator, indicating that they must be implemented by any concrete subclass.\n",
    "\n",
    "Attempting to create an instance of an abstract class directly would result in a TypeError. Here's an example:"
   ]
  },
  {
   "cell_type": "code",
   "execution_count": null,
   "id": "7b68aaf5-2ae2-433b-9b53-5e85d895498a",
   "metadata": {},
   "outputs": [],
   "source": [
    "from abc import ABC, abstractmethod\n",
    "\n",
    "# Abstract Base Class\n",
    "class MyAbstractClass(ABC):\n",
    "    @abstractmethod\n",
    "    def my_abstract_method(self):\n",
    "        pass\n",
    "\n",
    "# Attempt to create an instance of the abstract class\n",
    "try:\n",
    "    my_instance = MyAbstractClass()  # This will raise a TypeError\n",
    "except TypeError as e:\n",
    "    print(f\"TypeError: {e}\")\n"
   ]
  },
  {
   "cell_type": "code",
   "execution_count": null,
   "id": "53db5618-273b-4833-a8a3-f4b50fe0cd0f",
   "metadata": {},
   "outputs": [],
   "source": [
    "TypeError: Can't instantiate abstract class MyAbstractClass with abstract methods my_abstract_method\n"
   ]
  },
  {
   "cell_type": "markdown",
   "id": "f2d66e91-7f98-4283-a9e0-3dc70471723f",
   "metadata": {},
   "source": [
    "As shown in the example, attempting to instantiate MyAbstractClass directly raises a TypeError. To use the functionality defined in an abstract class, you need to create concrete subclasses that provide implementations for the abstract methods. Instances of these concrete subclasses can then be created and used."
   ]
  },
  {
   "cell_type": "code",
   "execution_count": null,
   "id": "86d3cff1-3f6a-41af-afd8-8e54181140d8",
   "metadata": {},
   "outputs": [],
   "source": []
  },
  {
   "cell_type": "code",
   "execution_count": null,
   "id": "18cca494-33be-4bff-a6a4-a0287fed2e28",
   "metadata": {},
   "outputs": [],
   "source": []
  },
  {
   "cell_type": "code",
   "execution_count": null,
   "id": "6ab4942f-709e-4ee8-b3ce-72d573528b77",
   "metadata": {},
   "outputs": [],
   "source": []
  }
 ],
 "metadata": {
  "kernelspec": {
   "display_name": "Python 3 (ipykernel)",
   "language": "python",
   "name": "python3"
  },
  "language_info": {
   "codemirror_mode": {
    "name": "ipython",
    "version": 3
   },
   "file_extension": ".py",
   "mimetype": "text/x-python",
   "name": "python",
   "nbconvert_exporter": "python",
   "pygments_lexer": "ipython3",
   "version": "3.10.8"
  }
 },
 "nbformat": 4,
 "nbformat_minor": 5
}
